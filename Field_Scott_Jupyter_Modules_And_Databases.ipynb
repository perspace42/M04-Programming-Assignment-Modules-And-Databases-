{
 "cells": [
  {
   "cell_type": "code",
   "execution_count": 1,
   "metadata": {},
   "outputs": [
    {
     "data": {
      "text/plain": [
       "'\\nAuthor: Scott Field\\nVersion: 1.00\\nDate: 4/11/2023\\nProgram Name: Jupyter_Modules_And_Databases\\nProgram Purpose: Show understanding of modules and SQL databases\\n'"
      ]
     },
     "execution_count": 1,
     "metadata": {},
     "output_type": "execute_result"
    }
   ],
   "source": [
    "'''\n",
    "Author: Scott Field\n",
    "Version: 1.00\n",
    "Date: 4/11/2023\n",
    "Program Name: Jupyter_Modules_And_Databases\n",
    "Program Purpose: Show understanding of modules and SQL databases\n",
    "'''"
   ]
  },
  {
   "cell_type": "code",
   "execution_count": 2,
   "metadata": {},
   "outputs": [
    {
     "name": "stdout",
     "output_type": "stream",
     "text": [
      "Open 9-5 daily\n"
     ]
    }
   ],
   "source": [
    "#Program 11.1\n",
    "#Create a file called zoo.py. In it, define a function called hours() that prints the string 'Open 9-5 daily'. \n",
    "#Then, use the interactive interpreter to import the zoo module and call its hours() function.\n",
    "from zoo import *\n",
    "hours()"
   ]
  },
  {
   "cell_type": "code",
   "execution_count": 7,
   "metadata": {},
   "outputs": [
    {
     "name": "stdout",
     "output_type": "stream",
     "text": [
      "Open 9-5 daily\n"
     ]
    }
   ],
   "source": [
    "#Program 11.2\n",
    "#In the interactive interpreter, import the zoo module as menagerie and call its hours() function.\n",
    "import zoo as menagerie\n",
    "hours()"
   ]
  },
  {
   "cell_type": "code",
   "execution_count": 41,
   "metadata": {},
   "outputs": [
    {
     "data": {
      "text/plain": [
       "<sqlite3.Cursor at 0x296fc7bcc70>"
      ]
     },
     "execution_count": 41,
     "metadata": {},
     "output_type": "execute_result"
    }
   ],
   "source": [
    "#Next 3 cells are all for assignment 16.8\n",
    "#Create Database According To 16.4 Directions\n",
    "import sqlite3\n",
    "database = sqlite3.connect(\"books.db\")\n",
    "cursor = database.cursor()\n",
    "cursor.execute('''CREATE TABLE books (title VARCHAR(20), author VARCHAR(20), year INT)''')"
   ]
  },
  {
   "cell_type": "code",
   "execution_count": 42,
   "metadata": {},
   "outputs": [],
   "source": [
    "#Read Database According To 16.5 Directions (read data fromm book2.csv and insert its data into the book table)\n",
    "import csv\n",
    "#read data into books list\n",
    "with open(\"book2.csv\",\"rt\") as fin:\n",
    "    cin = csv.reader(fin)\n",
    "    #read each row in books if the row contains any data\n",
    "    books = [row for row in cin if row]\n",
    "\n",
    "#print(books) #this line is to check that the data has been read correctly\n",
    "\n",
    "#write data from books list into database\n",
    "for index in range(len(books)):\n",
    "    #get csv data\n",
    "    title = books[index][0]\n",
    "    author = books[index][1]\n",
    "    year = books[index][2]\n",
    "\n",
    "    #write sql query so that ('title','author',year) is within the parentheses\n",
    "    sql = \"INSERT INTO books VALUES('\" + title + \"','\" + author +\"',\" + year + \")\"\n",
    "    #execute sql query\n",
    "    cursor.execute(sql)\n",
    "\n",
    "    #commit changes\n",
    "    database.commit()\n"
   ]
  },
  {
   "cell_type": "code",
   "execution_count": 59,
   "metadata": {},
   "outputs": [
    {
     "name": "stdout",
     "output_type": "stream",
     "text": [
      "Perdido Street Station\n",
      "Small Gods\n",
      "The Spellman Files\n",
      "The Weirdstone of Brisingamen\n",
      "Thud!\n"
     ]
    }
   ],
   "source": [
    "#Program 16.8 (16.3,16.4,16.5,16.8)\n",
    "#Use the sqlalchemy module to connect to the sqlite3 database books.db that you just made in exercise 16.4. \n",
    "#As in 16.6, select and print the title column from the book table in alphabetical order.\n",
    "\n",
    "#sqlalchemy access and print titles in alphabetical order (This code is the problem)\n",
    "import sqlalchemy as db\n",
    "#get database from path string\n",
    "engine = db.create_engine(r'sqlite:///C:\\Users\\field\\Desktop\\Desktop Documents\\College (Ivy Tech)\\A1 Current Classes\\Python Software Development\\M04\\Jupyter_Modules_Databases\\books.db')\n",
    "#get metadata from database\n",
    "meta = db.MetaData(bind = engine)\n",
    "db.MetaData.reflect(meta)\n",
    "#get table from database\n",
    "booksTable = meta.tables['books']\n",
    "#set SQL query to get titles from table\n",
    "query = db.select([booksTable.c.title])\n",
    "#set results\n",
    "result = engine.execute(query).fetchall()\n",
    "\n",
    "#output results print(result)\n",
    "\n",
    "#organize result to be a list in alphabetical order\n",
    "\n",
    "#store alphabetical list\n",
    "alphaResult = list(result)\n",
    "#sort list by alphabetical order\n",
    "alphaResult.sort()\n",
    "\n",
    "#print list items in vertical order\n",
    "for index in range(len(alphaResult)):\n",
    "    print(alphaResult[index][0])\n",
    "\n",
    "\n",
    "        \n",
    "        "
   ]
  }
 ],
 "metadata": {
  "kernelspec": {
   "display_name": "Python 3 (ipykernel)",
   "language": "python",
   "name": "python3"
  },
  "language_info": {
   "codemirror_mode": {
    "name": "ipython",
    "version": 3
   },
   "file_extension": ".py",
   "mimetype": "text/x-python",
   "name": "python",
   "nbconvert_exporter": "python",
   "pygments_lexer": "ipython3",
   "version": "3.9.13"
  }
 },
 "nbformat": 4,
 "nbformat_minor": 2
}
